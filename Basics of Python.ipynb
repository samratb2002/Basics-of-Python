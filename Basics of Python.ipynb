{
 "cells": [
  {
   "cell_type": "code",
   "execution_count": 102,
   "id": "86430865",
   "metadata": {},
   "outputs": [
    {
     "name": "stdout",
     "output_type": "stream",
     "text": [
      "Hello World\n"
     ]
    }
   ],
   "source": [
    "#Basic Program\n",
    "print (\"Hello World\")"
   ]
  },
  {
   "cell_type": "code",
   "execution_count": 25,
   "id": "00cadeb7",
   "metadata": {},
   "outputs": [
    {
     "name": "stdout",
     "output_type": "stream",
     "text": [
      "   /|\n",
      "  / |\n",
      " /  |\n",
      "/___|\n"
     ]
    }
   ],
   "source": [
    "#Creates a Triangle\n",
    "print(\"   /|\")\n",
    "print(\"  / |\")\n",
    "print(\" /  |\")\n",
    "print(\"/___|\")"
   ]
  },
  {
   "cell_type": "code",
   "execution_count": 10,
   "id": "7412b220",
   "metadata": {},
   "outputs": [
    {
     "name": "stdout",
     "output_type": "stream",
     "text": [
      "There was once was a man named John,\n",
      "he was 35 years old, \n",
      "he really liked the name John\n",
      "but hated the fact that he was 35 years old.\n"
     ]
    }
   ],
   "source": [
    "#Basic usage of variables\n",
    "subject_name= \"John\"\n",
    "subject_age= \"35\"\n",
    "print(\"There was once was a man named \"+ subject_name+ \",\")\n",
    "print(\"he was \" +subject_age+ \" years old, \")\n",
    "print(\"he really liked the name \" + subject_name);\n",
    "print(\"but hated the fact that he was \" + subject_age + \" years old.\")"
   ]
  },
  {
   "cell_type": "code",
   "execution_count": 11,
   "id": "960bb2c2",
   "metadata": {},
   "outputs": [
    {
     "name": "stdout",
     "output_type": "stream",
     "text": [
      "There was once was a man named Tom,\n",
      "he was 50 years old, \n",
      "he really liked the name Wally\n",
      "but hated the fact that he was 15 years old.\n"
     ]
    }
   ],
   "source": [
    "#Usage of Variables 2.0\n",
    "subject_name= \"Tom\"\n",
    "subject_age= \"50\"\n",
    "print(\"There was once was a man named \"+ subject_name+ \",\")\n",
    "print(\"he was \" +subject_age+ \" years old, \")\n",
    "subject_name= \"Wally\"\n",
    "subject_age= \"15\"\n",
    "print(\"he really liked the name \" + subject_name);\n",
    "print(\"but hated the fact that he was \" + subject_age + \" years old.\")"
   ]
  },
  {
   "cell_type": "code",
   "execution_count": 12,
   "id": "5d23b56b",
   "metadata": {},
   "outputs": [
    {
     "name": "stdout",
     "output_type": "stream",
     "text": [
      "Giraffe\n",
      "Academy\n"
     ]
    }
   ],
   "source": [
    "#Newline\n",
    "print(\"Giraffe\\nAcademy\")"
   ]
  },
  {
   "cell_type": "code",
   "execution_count": 13,
   "id": "92b05b09",
   "metadata": {},
   "outputs": [
    {
     "name": "stdout",
     "output_type": "stream",
     "text": [
      "Giraffe\"Academy\n"
     ]
    }
   ],
   "source": [
    "#How to print the quoation marks?\n",
    "print(\"Giraffe\\\"Academy\")"
   ]
  },
  {
   "cell_type": "code",
   "execution_count": 14,
   "id": "e737d36c",
   "metadata": {},
   "outputs": [
    {
     "name": "stdout",
     "output_type": "stream",
     "text": [
      "Giraffe Academy is cool\n"
     ]
    }
   ],
   "source": [
    "#Appending two strings with a +\n",
    "phrase=(\"Giraffe Academy\")\n",
    "print(phrase+ \" is cool\")"
   ]
  },
  {
   "cell_type": "code",
   "execution_count": 16,
   "id": "5511b416",
   "metadata": {},
   "outputs": [
    {
     "name": "stdout",
     "output_type": "stream",
     "text": [
      " giraffe academy \n"
     ]
    }
   ],
   "source": [
    "#lower case function\n",
    "phrase=(\" Giraffe Academy \")\n",
    "print(phrase.lower())"
   ]
  },
  {
   "cell_type": "code",
   "execution_count": 19,
   "id": "d4e50591",
   "metadata": {},
   "outputs": [
    {
     "name": "stdout",
     "output_type": "stream",
     "text": [
      "False\n",
      "False\n",
      "GIRAFFE ACADEMY\n",
      "True\n",
      "False\n",
      "15\n",
      "Ga\n",
      "0\n",
      "8\n",
      "3\n",
      "Water Academy\n"
     ]
    }
   ],
   "source": [
    "#Basic functions for strings\n",
    "phrase=(\"Giraffe Academy\")\n",
    "print(phrase.isupper())\n",
    "print(phrase.islower())\n",
    "print(phrase.upper())\n",
    "print(phrase.upper().isupper())\n",
    "print(phrase.lower().isupper())\n",
    "print(len(phrase))\n",
    "print(phrase[0]+phrase[3])\n",
    "print(phrase.index(\"G\"))\n",
    "print(phrase.index(\"Academy\"))\n",
    "print(phrase.index(\"a\"))\n",
    "print(phrase.replace(\"Giraffe\",\"Water\"))"
   ]
  },
  {
   "cell_type": "code",
   "execution_count": 26,
   "id": "b4e38fda",
   "metadata": {},
   "outputs": [
    {
     "name": "stdout",
     "output_type": "stream",
     "text": [
      "2\n",
      "2.9087\n",
      "-1.08749\n",
      "5\n",
      "7.5\n",
      "17\n",
      "1\n",
      "5\n",
      "5\n",
      "5 my favorite number.\n",
      "5\n",
      "9\n",
      "78125\n",
      "6\n",
      "4\n",
      "5\n",
      "6\n",
      "8\n",
      "7.483314773547883\n"
     ]
    }
   ],
   "source": [
    "#Basic functions in case of Numbers in Python\n",
    "print(2)\n",
    "print(2.9087)\n",
    "print(-1.08749)\n",
    "print(2+3)\n",
    "print(3+4.5)\n",
    "print(3*4+5)\n",
    "print(10%3)\n",
    "my_num= 5\n",
    "print(my_num)\n",
    "print(str(my_num))\n",
    "print(str(my_num)+\" my favorite number.\")\n",
    "print(abs(my_num))\n",
    "print(pow(3,2))\n",
    "print(pow(5,7))\n",
    "print(max(4,6))\n",
    "print(min(4,6))\n",
    "print(round(5.289034))\n",
    "from math import *\n",
    "my_num= -5\n",
    "print(floor(6.7998))\n",
    "print(ceil(7.1978232))\n",
    "print(sqrt(56))\n"
   ]
  },
  {
   "cell_type": "code",
   "execution_count": 21,
   "id": "cc8db142",
   "metadata": {},
   "outputs": [
    {
     "name": "stdout",
     "output_type": "stream",
     "text": [
      "Enter Your Name: Samrat\n",
      " Hello Samrat !\n"
     ]
    }
   ],
   "source": [
    "#Learning to take input from the user\n",
    "name= input(\"Enter Your Name: \")\n",
    "print(\" Hello \"+ name + \" !\")\n"
   ]
  },
  {
   "cell_type": "code",
   "execution_count": 22,
   "id": "c20985e0",
   "metadata": {},
   "outputs": [
    {
     "name": "stdout",
     "output_type": "stream",
     "text": [
      "Enter Your Name: Samrat Bandyopadhyay \n",
      "Enter your age: 19\n",
      "You are Samrat Bandyopadhyay  Your age is 19\n"
     ]
    }
   ],
   "source": [
    "name= input(\"Enter Your Name: \")\n",
    "age= input(\"Enter your age: \")\n",
    "print(\"You are \"+ name+ \" Your age is \" + age)"
   ]
  },
  {
   "cell_type": "code",
   "execution_count": 2,
   "id": "2118cf5d",
   "metadata": {},
   "outputs": [
    {
     "name": "stdout",
     "output_type": "stream",
     "text": [
      "Enter a number: 5\n",
      "Enter another number: 7\n",
      "12\n"
     ]
    }
   ],
   "source": [
    "#Basic Calculator using ints... no floats\n",
    "num_1= input(\"Enter a number: \")\n",
    "num_2= input(\"Enter another number: \")\n",
    "result = int(num_1) + int (num_2)\n",
    "print(result)\n"
   ]
  },
  {
   "cell_type": "code",
   "execution_count": 5,
   "id": "ad856f0d",
   "metadata": {},
   "outputs": [
    {
     "name": "stdout",
     "output_type": "stream",
     "text": [
      "Enter a number: 5.6\n",
      "Enter another number: 7.8\n",
      "13.399999999999999\n"
     ]
    }
   ],
   "source": [
    "#Calculator which uses float \n",
    "num_1= input(\"Enter a number: \")\n",
    "num_2= input(\"Enter another number: \")\n",
    "result = float(num_1) + float(num_2)\n",
    "print(result)\n"
   ]
  },
  {
   "cell_type": "code",
   "execution_count": 8,
   "id": "ffe5767f",
   "metadata": {},
   "outputs": [
    {
     "name": "stdout",
     "output_type": "stream",
     "text": [
      "Enter a color: Green\n",
      "Enter a Plural Noun: Mobile Phone\n",
      "Enter a celebrity: Emma Watson \n",
      "Roses are Green\n",
      "Mobile Phone are blue\n",
      "I love Emma Watson \n"
     ]
    }
   ],
   "source": [
    "#Madlibs Game\n",
    "color= input(\"Enter a color: \")\n",
    "plural_noun= input(\"Enter a Plural Noun: \")\n",
    "celebrity= input(\"Enter a celebrity: \")\n",
    "print(\"Roses are \" + color)\n",
    "print(plural_noun + \" are blue\")\n",
    "print(\"I love \"+ celebrity)"
   ]
  },
  {
   "cell_type": "code",
   "execution_count": 9,
   "id": "3b64447b",
   "metadata": {},
   "outputs": [
    {
     "name": "stdout",
     "output_type": "stream",
     "text": [
      "['Michael', 'Jim', 'Pam', 'Dwight', 'Angela', 'Oscar', 'Stanley']\n",
      "Dwight\n",
      "['Jim', 'Pam', 'Dwight']\n",
      "Walter\n"
     ]
    }
   ],
   "source": [
    "#Lists Basic\n",
    "friends= [\"Michael\",\"Jim\",\"Pam\",\"Dwight\",\"Angela\",\"Oscar\",\"Stanley\"]\n",
    "print(friends)\n",
    "print(friends[3])\n",
    "print(friends[1:4])\n",
    "friends[4]=\"Walter\"\n",
    "print(friends[4])\n",
    "\n"
   ]
  },
  {
   "cell_type": "code",
   "execution_count": 27,
   "id": "db859b1c",
   "metadata": {},
   "outputs": [
    {
     "name": "stdout",
     "output_type": "stream",
     "text": [
      "['Michael', 'Jim', 'Pam', 'Dwight', 'Angela', 'Oscar', 'Stanley']\n",
      "['Michael', 'Jim', 'Pam', 'Dwight', 'Angela', 'Oscar', 'Stanley', 4, 8, 9, 12, 18, 20]\n",
      "['Michael', 'Jim', 'Pam', 'Dwight', 'Angela', 'Oscar', 'Stanley', 4, 8, 9, 12, 18, 20, 'Creed']\n",
      "['Michael', 'Jim', 'Pam', 'Kelly', 'Dwight', 'Angela', 'Oscar', 'Stanley', 4, 8, 9, 12, 18, 20, 'Creed']\n",
      "['Michael', 'Pam', 'Kelly', 'Dwight', 'Angela', 'Oscar', 'Stanley', 4, 8, 9, 12, 18, 20, 'Creed']\n",
      "['Michael', 'Pam', 'Kelly', 'Dwight', 'Angela', 'Oscar', 'Stanley', 4, 8, 9, 12, 18, 20]\n",
      "3\n",
      "['Angela', 'Dwight', 'Jim', 'Jim', 'Michael', 'Oscar', 'Pam', 'Stanley']\n",
      "2\n",
      "[4, 8, 9, 12, 18, 20]\n",
      "[20, 18, 12, 9, 8, 4]\n",
      "['Angela', 'Dwight', 'Jim', 'Jim', 'Michael', 'Oscar', 'Pam', 'Stanley']\n"
     ]
    }
   ],
   "source": [
    "#Functions associated with Lists\n",
    "lucky_numbers= [4,8,9,12,18,20]\n",
    "friends= [\"Michael\",\"Jim\",\"Pam\",\"Dwight\",\"Angela\",\"Oscar\",\"Stanley\"]\n",
    "print(friends)\n",
    "friends.extend(lucky_numbers)\n",
    "print(friends)\n",
    "friends.append(\"Creed\")\n",
    "print(friends)\n",
    "friends.insert(3,\"Kelly\")\n",
    "print(friends)\n",
    "friends.remove(\"Jim\")\n",
    "print(friends)\n",
    "friends.pop()\n",
    "print(friends)\n",
    "print(friends.index(\"Dwight\"))\n",
    "friends= [\"Michael\",\"Jim\",\"Jim\",\"Pam\",\"Dwight\",\"Angela\",\"Oscar\",\"Stanley\"]\n",
    "friends.sort()\n",
    "print(friends)\n",
    "print(friends.count(\"Jim\"))\n",
    "lucky_numbers.sort()\n",
    "print(lucky_numbers)\n",
    "lucky_numbers.reverse()\n",
    "print(lucky_numbers)\n",
    "friends2=friends.copy()\n",
    "print(friends2)\n",
    "\n"
   ]
  },
  {
   "cell_type": "code",
   "execution_count": 34,
   "id": "49fe6f89",
   "metadata": {},
   "outputs": [
    {
     "name": "stdout",
     "output_type": "stream",
     "text": [
      "top\n",
      "Hello User\n",
      "bottom\n",
      "Hello Mike you are 49\n",
      "Hello walter you are 90\n"
     ]
    }
   ],
   "source": [
    "#Functions basics\n",
    "def say_hi():\n",
    "    print(\"Hello User\")\n",
    "print(\"top\")\n",
    "say_hi()\n",
    "print(\"bottom\")\n",
    "def say_hi(name,age):\n",
    "    print(\"Hello \"+ name +\" you are \"+age)\n",
    "say_hi(\"Mike\",\"49\")\n",
    "say_hi(\"walter\", \"90\")"
   ]
  },
  {
   "cell_type": "code",
   "execution_count": 33,
   "id": "9a95a022",
   "metadata": {},
   "outputs": [
    {
     "name": "stdout",
     "output_type": "stream",
     "text": [
      "4\n"
     ]
    }
   ],
   "source": [
    "#Tuples\n",
    "coordinates=(4,5)\n",
    "print(coordinates[0])"
   ]
  },
  {
   "cell_type": "code",
   "execution_count": 37,
   "id": "ee82d19a",
   "metadata": {},
   "outputs": [
    {
     "name": "stdout",
     "output_type": "stream",
     "text": [
      "64.0\n"
     ]
    }
   ],
   "source": [
    "#Using functions properly\n",
    "def cube(val):\n",
    "    return pow(val,3)\n",
    "cube(3)\n",
    "cube(4)\n",
    "result= cube(4)\n",
    "print(result)"
   ]
  },
  {
   "cell_type": "code",
   "execution_count": 48,
   "id": "1a8ef360",
   "metadata": {},
   "outputs": [
    {
     "name": "stdout",
     "output_type": "stream",
     "text": [
      "You are a male\n",
      "You are not a male\n",
      "You are a male or tall or both\n",
      "You are a male and tall\n"
     ]
    }
   ],
   "source": [
    "#if statement\n",
    "is_Male= True\n",
    "if is_Male:\n",
    "    print(\"You are a male\")\n",
    "is_Male= False\n",
    "if is_Male:\n",
    "    print(\"You are a male\")\n",
    "else:\n",
    "    print(\"You are not a male\")\n",
    "is_Male= True \n",
    "is_Tall= True\n",
    "if is_Male or is_Tall:\n",
    "    print(\"You are a male or tall or both\")\n",
    "else:\n",
    "    print(\"Neither\")\n",
    "if is_Male and is_Tall:\n",
    "    print(\"You are a male and tall\")\n",
    "else:\n",
    "    print(\"You are either not male or not tall\")\n",
    "\n",
    "    \n",
    "\n",
    "    "
   ]
  },
  {
   "cell_type": "code",
   "execution_count": 75,
   "id": "ed4f8d78",
   "metadata": {},
   "outputs": [
    {
     "name": "stdout",
     "output_type": "stream",
     "text": [
      "50\n"
     ]
    }
   ],
   "source": [
    "#Comparison using if statements\n",
    "def max_num(num1, num2, num3):\n",
    "    if num1 >= num2 and num1 >= num3:\n",
    "        return num1\n",
    "    elif num2>=num1 and num2>=num3:\n",
    "        return num2\n",
    "    else:\n",
    "        return num3\n",
    "\n",
    "print(max_num(30,40,50))\n",
    "\n",
    "    "
   ]
  },
  {
   "cell_type": "code",
   "execution_count": 54,
   "id": "9cb5c6ec",
   "metadata": {},
   "outputs": [
    {
     "name": "stdout",
     "output_type": "stream",
     "text": [
      "Enter a number: 5\n",
      "Enter an operator: +\n",
      "Enter a number: 3\n",
      "8.0\n"
     ]
    }
   ],
   "source": [
    "#Building a Calculator 2\n",
    "num1= float(input(\"Enter a number: \"))\n",
    "op= input(\"Enter an operator: \")\n",
    "num2=float(input(\"Enter a number: \"))\n",
    "\n",
    "\n",
    "\n",
    "if op== \"+\":\n",
    "    print(num1+num2)\n",
    "elif op== \"-\":\n",
    "    print(num1-num2)\n",
    "elif op== \"*\":\n",
    "    print(num1*num2)\n",
    "elif op== \"/\":\n",
    "    print(num1/num2)\n",
    "else:\n",
    "    print(\"Invalid Operator\")\n",
    "                    \n"
   ]
  },
  {
   "cell_type": "code",
   "execution_count": 61,
   "id": "86218057",
   "metadata": {},
   "outputs": [
    {
     "name": "stdout",
     "output_type": "stream",
     "text": [
      "December\n",
      "January\n",
      "December\n",
      "Not a valid key\n"
     ]
    }
   ],
   "source": [
    "#Dictionary Basics\n",
    "monthConversion= {\"Jan\":\"January\",\"Feb\":\"February\",\"Mar\":\"March\",\"Apr\":\"April\",\"May\":\"May\",\"Jun\":\"June\",\"Jul\":\"July\",\"Aug\":\"August\",\n",
    "                  \"Sep\":\"September\",\"Oct\":\"October\",\"Nov\":\"November\",\"Dec\":\"December\"}\n",
    "print(monthConversion[\"Dec\"])\n",
    "print(monthConversion[\"Jan\"])\n",
    "print(monthConversion.get(\"Dec\"))\n",
    "print(monthConversion.get(\"Hello\",\"Not a valid key\"))"
   ]
  },
  {
   "cell_type": "code",
   "execution_count": 64,
   "id": "faa897ec",
   "metadata": {
    "scrolled": true
   },
   "outputs": [
    {
     "name": "stdout",
     "output_type": "stream",
     "text": [
      "1\n",
      "2\n",
      "3\n",
      "4\n",
      "5\n",
      "6\n",
      "7\n",
      "8\n",
      "9\n",
      "10\n",
      "Loop Complete\n"
     ]
    }
   ],
   "source": [
    "i=1\n",
    "while i<=10:\n",
    "    print(i)\n",
    "    i+=1\n",
    "print(\"Loop Complete\")\n",
    "    "
   ]
  },
  {
   "cell_type": "code",
   "execution_count": 74,
   "id": "ad13fd76",
   "metadata": {},
   "outputs": [
    {
     "name": "stdout",
     "output_type": "stream",
     "text": [
      "Enter your guess: hello\n",
      "Enter your guess: my \n",
      "Enter your guess: giraffe\n",
      "You Win\n"
     ]
    }
   ],
   "source": [
    "#guessing game\n",
    "secret_word= \"giraffe\"\n",
    "guess= \"\"\n",
    "guess_count=0 \n",
    "guess_limit= 3\n",
    "out_of_guesses= False\n",
    "while guess != secret_word and not(out_of_guesses):\n",
    "    if(guess_count<guess_limit):\n",
    "        guess= input(\"Enter your guess: \" )\n",
    "        guess_count+=1\n",
    "    else:\n",
    "        out_of_guesses= True\n",
    "if out_of_guesses:\n",
    "    print(\"You lose\")\n",
    "else:\n",
    "    print(\"You Win\")"
   ]
  },
  {
   "cell_type": "code",
   "execution_count": 87,
   "id": "9e5de73f",
   "metadata": {},
   "outputs": [
    {
     "name": "stdout",
     "output_type": "stream",
     "text": [
      "G\n",
      "i\n",
      "r\n",
      "a\n",
      "f\n",
      "f\n",
      "e\n",
      " \n",
      "A\n",
      "c\n",
      "a\n",
      "d\n",
      "e\n",
      "m\n",
      "y\n"
     ]
    }
   ],
   "source": [
    "#for loops\n",
    "for letter in \"Giraffe Academy\":\n",
    "    print(letter)"
   ]
  },
  {
   "cell_type": "code",
   "execution_count": 88,
   "id": "74ce8b77",
   "metadata": {},
   "outputs": [
    {
     "name": "stdout",
     "output_type": "stream",
     "text": [
      "Michael\n",
      "Jim\n",
      "Pam\n",
      "Dwight\n",
      "0\n",
      "1\n",
      "2\n",
      "3\n",
      "4\n",
      "5\n",
      "6\n",
      "7\n",
      "8\n",
      "9\n",
      "4\n",
      "5\n",
      "6\n",
      "7\n",
      "8\n",
      "9\n",
      "Michael\n",
      "Jim\n",
      "Pam\n",
      "Dwight\n"
     ]
    }
   ],
   "source": [
    "friends= [\"Michael\",\"Jim\",\"Pam\",\"Dwight\"]\n",
    "for friend in friends:\n",
    "    print(friend)\n",
    "for index in range(10):\n",
    "    print(index)\n",
    "for index in range(4,10):\n",
    "    print(index)\n",
    "for index in range(len(friends)):\n",
    "                   print(friends[index])\n"
   ]
  },
  {
   "cell_type": "code",
   "execution_count": 90,
   "id": "7efe5692",
   "metadata": {},
   "outputs": [
    {
     "name": "stdout",
     "output_type": "stream",
     "text": [
      "9\n",
      "1024\n"
     ]
    }
   ],
   "source": [
    "def raised_to_power(base_num, power_num):\n",
    "    result= 1\n",
    "    for index in range(power_num):\n",
    "        result= result* base_num\n",
    "    return result\n",
    "print(raised_to_power(3,2))\n",
    "print(raised_to_power(4,5))"
   ]
  },
  {
   "cell_type": "code",
   "execution_count": 94,
   "id": "689ac3b6",
   "metadata": {},
   "outputs": [
    {
     "name": "stdout",
     "output_type": "stream",
     "text": [
      "3\n",
      "8\n",
      "1\n",
      "2\n",
      "3\n",
      "4\n",
      "5\n",
      "6\n",
      "7\n",
      "8\n",
      "9\n",
      "0\n"
     ]
    }
   ],
   "source": [
    "number_grid= [[1,2,3],\n",
    "              [4,5,6],\n",
    "              [7,8,9],\n",
    "              [0]\n",
    "             ]\n",
    "print(number_grid[0][2])\n",
    "print(number_grid[2][1])\n",
    "for row in number_grid:\n",
    "    for col in row:\n",
    "        print(col)"
   ]
  },
  {
   "cell_type": "code",
   "execution_count": 97,
   "id": "8bbb4edb",
   "metadata": {},
   "outputs": [
    {
     "name": "stdout",
     "output_type": "stream",
     "text": [
      "Hgllg my ngmg gs Gngcgndg\n"
     ]
    }
   ],
   "source": [
    "#Translator \n",
    "def translate(phrase):\n",
    "    translation=  \"\"\n",
    "    for letter in phrase:\n",
    "        if letter.lower() in \"aeiou\":\n",
    "            if letter.isupper():\n",
    "                translation = translation +\"G\"\n",
    "            else:\n",
    "                translation= translation + \"g\"\n",
    "        else:\n",
    "            translation = translation +letter \n",
    "    return translation\n",
    "print(translate(\"Hello my name is Anaconda\"))"
   ]
  },
  {
   "cell_type": "code",
   "execution_count": 100,
   "id": "40f07392",
   "metadata": {},
   "outputs": [
    {
     "name": "stdout",
     "output_type": "stream",
     "text": [
      "division by zero\n"
     ]
    }
   ],
   "source": [
    "#Catching errors in Python using Try/Except\n",
    "try:\n",
    "    value= 10/0\n",
    "    number= int(input(\"Enter a number: \"))\n",
    "    print(number)\n",
    "except ZeroDivisionError as err:\n",
    "    print(err)\n",
    "except ValueError: \n",
    "    print (\"Invalid Input\")"
   ]
  },
  {
   "cell_type": "code",
   "execution_count": 111,
   "id": "cdd90a4c",
   "metadata": {
    "scrolled": true
   },
   "outputs": [
    {
     "name": "stdout",
     "output_type": "stream",
     "text": [
      "Ramesh \n",
      "\n",
      "Suresh \n",
      "\n",
      "Nagesh\n",
      "\n",
      "Karnesh\n",
      "\n"
     ]
    }
   ],
   "source": [
    "#Opening and reading a file\n",
    "employee_file=open (\"Employees.txt\", \"r\")\n",
    "#print(employee_file.read())\n",
    "#print(employee_file.readline())\n",
    "for employee in employee_file.readlines():\n",
    "    print(employee)\n",
    "employee_file.close()"
   ]
  },
  {
   "cell_type": "code",
   "execution_count": 113,
   "id": "609bbcf0",
   "metadata": {},
   "outputs": [],
   "source": [
    "#Writing in a file\n",
    "employee_file = open(\"Employees.txt\" , \"a\")\n",
    "employee_file.write(\"Thugesh\")\n",
    "employee_file.close()\n",
    "#The program adds the name Thugesh to Employees.txt"
   ]
  },
  {
   "cell_type": "code",
   "execution_count": 114,
   "id": "771e2cf0",
   "metadata": {},
   "outputs": [
    {
     "name": "stdout",
     "output_type": "stream",
     "text": [
      "Collecting python-docx\n",
      "  Using cached python-docx-0.8.11.tar.gz (5.6 MB)\n",
      "Requirement already satisfied: lxml>=2.3.2 in c:\\users\\samra\\anaconda3\\lib\\site-packages (from python-docx) (4.6.3)\n",
      "Building wheels for collected packages: python-docx\n",
      "  Building wheel for python-docx (setup.py): started\n",
      "  Building wheel for python-docx (setup.py): finished with status 'done'\n",
      "  Created wheel for python-docx: filename=python_docx-0.8.11-py3-none-any.whl size=184600 sha256=55d8dc53388aaa9f867c7c7fe5c9439e8b76aac685b507a255af0d9b6d89e8e5\n",
      "  Stored in directory: c:\\users\\samra\\appdata\\local\\pip\\cache\\wheels\\32\\b8\\b2\\c4c2b95765e615fe139b0b17b5ea7c0e1b6519b0a9ec8fb34d\n",
      "Successfully built python-docx\n",
      "Installing collected packages: python-docx\n",
      "Successfully installed python-docx-0.8.11\n"
     ]
    }
   ],
   "source": [
    "!pip install python-docx"
   ]
  },
  {
   "cell_type": "code",
   "execution_count": 4,
   "id": "897bf804",
   "metadata": {},
   "outputs": [
    {
     "name": "stdout",
     "output_type": "stream",
     "text": [
      "Jim\n",
      "Pam\n",
      "3.9\n"
     ]
    }
   ],
   "source": [
    "from Student import Student\n",
    "student1= Student(\"Jim\",\"Business\", 3.1,False)\n",
    "student2= Student(\"Pam\", \"Hospitality\", 3.9, False)\n",
    "student3= Student(\"Michael\",\"Physics\", 2.8, True)\n",
    "student4= Student(\"Dwight\",\"Engineering\",3.61, False)\n",
    "print(student1.name)\n",
    "print(student2.name)\n",
    "print(student2.gpa)\n"
   ]
  },
  {
   "cell_type": "code",
   "execution_count": 20,
   "id": "f2637020",
   "metadata": {},
   "outputs": [
    {
     "name": "stdout",
     "output_type": "stream",
     "text": [
      "What color are apples?\n",
      " (a)Red/Green\n",
      " (b)Purple\n",
      " (c)Magenta\n",
      "\n",
      "a\n",
      "What color are bananas?\n",
      " (a)Purple\n",
      " (b)Blue\n",
      " (c)Yellow\n",
      "\n",
      "c\n",
      "What color are strawberries?\n",
      " (a)Green\n",
      " (b)Red\n",
      " (c)Teal\n",
      "\n",
      "a\n",
      "You Got 2/3 correct\n"
     ]
    }
   ],
   "source": [
    "from Question import Question \n",
    "question_prompts = [\"What color are apples?\\n (a)Red/Green\\n (b)Purple\\n (c)Magenta\\n\\n\",\n",
    "            \"What color are bananas?\\n (a)Purple\\n (b)Blue\\n (c)Yellow\\n\\n\",\n",
    "            \"What color are strawberries?\\n (a)Green\\n (b)Red\\n (c)Teal\\n\\n\"\n",
    "]\n",
    "questions=[ Question(question_prompts[0], \"a\"),\n",
    "           Question(question_prompts[1],\"c\"),    \n",
    "           Question(question_prompts[2], \"b\")  \n",
    "          ]\n",
    "def run_test(questions):\n",
    "    score=0\n",
    "    for question in questions:\n",
    "        answer= input(question.prompt)\n",
    "        if answer== question.answer:\n",
    "            score+=1\n",
    "    print(\"You Got \" + str(score)+ \"/\" + str(len(questions)) + \" correct\")\n",
    "\n",
    "run_test(questions)"
   ]
  },
  {
   "cell_type": "code",
   "execution_count": 28,
   "id": "f69f275b",
   "metadata": {},
   "outputs": [
    {
     "name": "stdout",
     "output_type": "stream",
     "text": [
      " The chef makes a special dish\n"
     ]
    }
   ],
   "source": [
    "from Untitled1 import Chef\n",
    "from ChineseChef import ChineseChef\n",
    "myChef= Chef()\n",
    "myChef.make_special_dish()\n",
    "\n",
    "myChineseChef= ChineseChef()\n",
    "myChineseChef.make_chicken()\n"
   ]
  },
  {
   "cell_type": "code",
   "execution_count": null,
   "id": "f04b680f",
   "metadata": {},
   "outputs": [],
   "source": []
  }
 ],
 "metadata": {
  "kernelspec": {
   "display_name": "Python 3",
   "language": "python",
   "name": "python3"
  },
  "language_info": {
   "codemirror_mode": {
    "name": "ipython",
    "version": 3
   },
   "file_extension": ".py",
   "mimetype": "text/x-python",
   "name": "python",
   "nbconvert_exporter": "python",
   "pygments_lexer": "ipython3",
   "version": "3.8.8"
  }
 },
 "nbformat": 4,
 "nbformat_minor": 5
}
